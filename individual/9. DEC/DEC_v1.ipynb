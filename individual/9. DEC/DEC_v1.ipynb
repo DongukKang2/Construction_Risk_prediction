{
 "cells": [
  {
   "cell_type": "markdown",
   "metadata": {},
   "source": [
    "# Delay Event Check Tool_V1"
   ]
  },
  {
   "cell_type": "markdown",
   "metadata": {},
   "source": [
    "### 설명: 기초자료와의 양식 맞추는 버전"
   ]
  },
  {
   "cell_type": "code",
   "execution_count": 60,
   "metadata": {},
   "outputs": [],
   "source": [
    "import warnings\n",
    "warnings.filterwarnings(action='ignore')\n",
    "\n",
    "import numpy as np\n",
    "import random\n",
    "import pandas as pd\n",
    "import scipy\n",
    "from scipy import stats\n",
    "from tqdm import notebook\n",
    "import time\n",
    "from time import sleep"
   ]
  },
  {
   "cell_type": "code",
   "execution_count": 61,
   "metadata": {},
   "outputs": [],
   "source": [
    "name_project = '동해삼척 2공구'"
   ]
  },
  {
   "cell_type": "code",
   "execution_count": 62,
   "metadata": {},
   "outputs": [],
   "source": [
    "gloup_pd = pd.read_csv(\"dataset/동해삼척 2공구 그룹화_csv.csv\")\n",
    "gloup_np = gloup_pd.to_numpy()"
   ]
  },
  {
   "cell_type": "code",
   "execution_count": 63,
   "metadata": {},
   "outputs": [
    {
     "data": {
      "text/plain": [
       "nan"
      ]
     },
     "execution_count": 63,
     "metadata": {},
     "output_type": "execute_result"
    }
   ],
   "source": [
    "gloup_np[24][5]"
   ]
  },
  {
   "cell_type": "code",
   "execution_count": 64,
   "metadata": {},
   "outputs": [
    {
     "name": "stdout",
     "output_type": "stream",
     "text": [
      "2500 12 START On\n",
      "토공,IC/JC,흙깎기,토사 2550 12 END Off\n",
      "2434 16 START On\n",
      "토공,본선,흙깎기,리핑 2485 16 END Off\n",
      "2520 16 START On\n",
      "토공,IC/JC,흙깎기,토사 2527 16 END Off\n",
      "2540 16 START On\n",
      "토공,IC/JC,흙깎기,토사 2548 16 END Off\n",
      "235 18 START On\n",
      "토공,본선,토공기타,토공기타 264 18 END Off\n",
      "277 18 START On\n",
      "토공,본선,흙쌓기,노체 399 18 END Off\n",
      "2436 18 START On\n",
      "토공,본선,흙쌓기,노상 2446 18 END Off\n",
      "2464 18 START On\n",
      "토공,본선,흙쌓기,노상 2485 18 END Off\n",
      "1804 20 START On\n",
      "토공,본선,흙깎기,발파 1859 20 END Off\n",
      "1895 20 START On\n",
      "토공,본선,흙깎기,흙깎기기타 1979 20 END Off\n",
      "2085 20 START On\n",
      "토공,본선,흙깎기,발파 2134 20 END Off\n",
      "토공,본선,흙깎기,발파 2341 20 END Off\n",
      "2399 20 START On\n",
      "토공,본선,흙깎기,토사 2406 20 END Off\n",
      "2414 20 START On\n",
      "토공,본선,흙깎기,토사 2435 20 END Off\n",
      "2457 20 START On\n",
      "토공,본선,흙깎기,토사 2468 20 END Off\n",
      "2528 20 START On\n",
      "토공,본선,흙깎기,리핑 2539 20 END Off\n",
      "1521 22 START On\n",
      "토공,본선,흙깎기,발파 1566 22 END Off\n",
      "1735 22 START On\n",
      "토공,본선,흙깎기,흙깎기기타 1748 22 END Off\n",
      "2044 22 START On\n",
      "토공,본선,흙깎기,토사 2134 22 END Off\n",
      "2148 22 START On\n",
      "토공,본선,흙깎기,토사 2341 22 END Off\n",
      "2399 22 START On\n",
      "토공,본선,흙깎기,토사 2428 22 END Off\n",
      "2458 22 START On\n",
      "토공,본선,흙쌓기,노상 2473 22 END Off\n",
      "2519 22 START On\n",
      "토공,본선,흙쌓기,흙쌓기기타 2530 22 END Off\n",
      "1348 24 START On\n",
      "토공,본선,흙쌓기,노체 1381 24 END Off\n",
      "1389 24 START On\n",
      "토공,본선,흙쌓기,노체 1421 24 END Off\n",
      "1501 24 START On\n",
      "토공,본선,토공기타,비탈면보호공 1601 24 END Off\n",
      "2410 24 START On\n",
      "토공,본선,흙쌓기,노상 2429 24 END Off\n",
      "2513 24 START On\n",
      "토공,본선,흙깎기,흙깎기기타 2527 24 END Off\n",
      "1344 26 START On\n",
      "토공,본선,흙쌓기,노체 1365 26 END Off\n",
      "1382 26 START On\n",
      "토공,본선,흙쌓기,노체 1503 26 END Off\n",
      "1525 26 START On\n",
      "토공,본선,흙깎기,흙깎기기타 1532 26 END Off\n",
      "1563 26 START On\n",
      "토공,본선,흙쌓기,흙쌓기기타 1601 26 END Off\n",
      "1705 26 START On\n",
      "토공,본선,흙쌓기,흙쌓기기타 1941 26 END Off\n",
      "2044 26 START On\n",
      "토공,본선,흙쌓기,흙쌓기기타 2136 26 END Off\n",
      "2140 26 START On\n",
      "토공,본선,흙쌓기,노상 2268 26 END Off\n",
      "302 28 START On\n",
      "토공,지선/부체도로,흙깎기,토사 399 28 END Off\n",
      "1382 28 START On\n",
      "토공,본선,흙깎기,토사 1471 28 END Off\n",
      "1489 28 START On\n",
      "토공,본선,흙깎기,토사 1517 28 END Off\n",
      "토공,본선,흙깎기,흙깎기기타 1601 28 END Off\n",
      "1731 28 START On\n",
      "토공,본선,토공기타,비탈면보호공 1830 28 END Off\n",
      "1881 28 START On\n",
      "토공,본선,토공기타,비탈면보호공 1923 28 END Off\n",
      "1945 28 START On\n",
      "토공,본선,토공기타,비탈면보호공 1961 28 END Off\n",
      "2054 28 START On\n",
      "토공,본선,흙깎기,흙깎기기타 2106 28 END Off\n",
      "2144 28 START On\n",
      "토공,본선,흙깎기,흙깎기기타 2232 28 END Off\n",
      "2238 28 START On\n",
      "토공,본선,흙깎기,발파 2246 28 END Off\n",
      "457 30 START On\n",
      "토공,지선/부체도로,토공기타,토공기타 476 30 END Off\n",
      "1706 30 START On\n",
      "토공,본선,흙깎기,흙깎기기타 1979 30 END Off\n",
      "2400 34 START On\n",
      "토공,지선/부체도로,흙깎기,리핑 2421 34 END Off\n",
      "2441 34 START On\n",
      "토공,지선/부체도로,흙깎기,리핑 2449 34 END Off\n"
     ]
    }
   ],
   "source": [
    "temp = []\n",
    "data = []\n",
    "event_point = []\n",
    "\n",
    "starting_index = np.where(gloup_np == 'SP')[1][0]\n",
    "ending_index = np.where(gloup_np == 'EP')[1][0]\n",
    "check_event_OnOff = \"Off\"\n",
    "\n",
    "for i in range(starting_index, ending_index+1, 2):\n",
    "    for j in range(0, gloup_np.shape[0]):\n",
    "        if gloup_np[j,i] == 'START':\n",
    "            check_event_OnOff = \"On\"\n",
    "            temp= []\n",
    "            event_point_X = []\n",
    "            count = 0\n",
    "            print(j,i, gloup_np[j,i], check_event_OnOff)\n",
    "\n",
    "        if check_event_OnOff == 'On':\n",
    "            if (gloup_np[j,i] != gloup_np[j,i]) == True:\n",
    "                if gloup_np[j,5] != '휴일':\n",
    "                    event_point_X.append(j)\n",
    "                    event_point_Y = gloup_np[1,i]\n",
    "\n",
    "            else:\n",
    "                count = count +1\n",
    "\n",
    "        if gloup_np[j,i] == 'END':\n",
    "            check_event_OnOff = \"Off\"\n",
    "            WBS_d = gloup_np[j,i+1]\n",
    "            WBS_s = WBS_d.split(',')\n",
    "            for k in event_point_X:\n",
    "                temp.append(name_project)\n",
    "                temp.append(WBS_s[0])\n",
    "                temp.append(WBS_s[1])\n",
    "                temp.append(event_point_Y)\n",
    "                temp.append(WBS_s[2])\n",
    "                temp.append(WBS_s[3])\n",
    "                temp.append(gloup_np[k,1])\n",
    "                temp.append(count-2)\n",
    "                temp.append('')\n",
    "                temp.append('')\n",
    "                temp.append('')\n",
    "                temp.append('')\n",
    "                temp.append('')\n",
    "                temp.append('')\n",
    "                temp.append('1')\n",
    "                temp.append('')\n",
    "\n",
    "                data.append(temp)\n",
    "                temp= []\n",
    "            print(WBS_d, j,i, gloup_np[j,i], check_event_OnOff)"
   ]
  },
  {
   "cell_type": "code",
   "execution_count": 65,
   "metadata": {},
   "outputs": [],
   "source": [
    "df=pd.DataFrame(data)\n",
    "df.columns=[['프로젝트명\\n(L1)','공종\\n(L3)','시설물\\n(L4)','확장공간\\n(L6)','작업단위1\\n(L7)','작업단위2\\n(L7)','리스크발생일','실제공기','1차(대)','1차(중)','1차(소)','2차(대)','2차(중)','2차(소)','공기지연','상세근거']]\n",
    "df.to_csv(\"dataset/%s 리스크 기초자료_DEC.csv\"%name_project, encoding='utf-8-sig')"
   ]
  },
  {
   "cell_type": "code",
   "execution_count": null,
   "metadata": {},
   "outputs": [],
   "source": []
  }
 ],
 "metadata": {
  "kernelspec": {
   "display_name": "Python 3.6.9 64-bit",
   "language": "python",
   "name": "python3"
  },
  "language_info": {
   "codemirror_mode": {
    "name": "ipython",
    "version": 3
   },
   "file_extension": ".py",
   "mimetype": "text/x-python",
   "name": "python",
   "nbconvert_exporter": "python",
   "pygments_lexer": "ipython3",
   "version": "3.6.9"
  },
  "orig_nbformat": 4,
  "vscode": {
   "interpreter": {
    "hash": "31f2aee4e71d21fbe5cf8b01ff0e069b9275f58929596ceb00d14d90e3e16cd6"
   }
  }
 },
 "nbformat": 4,
 "nbformat_minor": 2
}
