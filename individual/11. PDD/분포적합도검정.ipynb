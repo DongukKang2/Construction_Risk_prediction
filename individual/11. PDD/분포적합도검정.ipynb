{
 "cells": [
  {
   "cell_type": "code",
   "execution_count": 6,
   "metadata": {},
   "outputs": [],
   "source": [
    "import scipy as sp\n",
    "from scipy import stats\n",
    "import matplotlib as plt\n",
    "import seaborn as sns"
   ]
  },
  {
   "cell_type": "code",
   "execution_count": 2,
   "metadata": {},
   "outputs": [],
   "source": [
    "#분포 종류 norm ,expon, gumbel, extreme1, logistic"
   ]
  },
  {
   "cell_type": "code",
   "execution_count": 3,
   "metadata": {},
   "outputs": [],
   "source": [
    "data1=[2,2,2,1,1,1,3,3,1,1,1]\n",
    "data2=[3,4,1,1,1,1,1]\n",
    "data13=[4,1,2]\n",
    "data15=[2,4]\n",
    "data22=[1,4]\n",
    "data26=[2,1,2,2,1,2,2,1,1,1,1,3,1]\n",
    "data27=[1,1,1,2,4,1]\n",
    "data28=[2,1,1,1,4,2,1,1,2,1,2,1,1,1,1,2,1,1,1,2,1,1,1,1,2,1,3,1]\n",
    "data29=[2,1,1,2,1,2,1,1]\n",
    "data32=[3,3,1,1,1,1,5,3,1,1,1,3,1,2,3,2,3,1,1,1,1,3,1,1,3,4,4,1,1,1,1,3,1,1]\n",
    "data34=[2,1,1,1]\n",
    "data35=[1,2,1]\n",
    "data36=[1,1,1,1,1,2,1,1,5]\n",
    "data38=[1,1,3]\n",
    "data39=[1,1,1,5,1,1]\n",
    "data40=[2,2,2,1]\n",
    "data45=[1,2,2,1,1,2,1,1,9,1,1,1,1,2,2,2]\n",
    "data46=[1,4,1,1]\n",
    "data47=[2,1,3,1,1,1,1]\n",
    "data48=[1,1,1,2,1,1,1]\n",
    "data49=[1,4,1,2]\n",
    "data51=[1,4]\n",
    "data54=[2,1,2,1,2,1,1,1,1,2,1,1,2,2,1,1,1,1,1,1,4,1,1,1,3,1,4,1,3,2,3,1]\n",
    "data58=[1,2,2,1,1,1]\n",
    "data59=[1,2,1,1,3,1,2]\n",
    "data60=[1,2,1,2,1,2,1,1,5,1,1,3,1,2,2]\n",
    "data61=[1,1,2,1,1,4,1,4,2,1,1,1]\n",
    "data64=[1,2,1]\n",
    "data76=[5,2,1,1,1,1]\n",
    "data82=[1,1,1,1,2,2,1]\n",
    "data85=[2,1,1]"
   ]
  },
  {
   "cell_type": "code",
   "execution_count": 4,
   "metadata": {},
   "outputs": [
    {
     "name": "stdout",
     "output_type": "stream",
     "text": [
      "AndersonResult(statistic=1.1851115535641963, critical_values=array([0.498, 0.567, 0.68 , 0.793, 0.944]), significance_level=array([15. , 10. ,  5. ,  2.5,  1. ]))\n",
      "AndersonResult(statistic=1.9553394149727037, critical_values=array([0.874, 1.022, 1.272, 1.523, 1.856]), significance_level=array([15. , 10. ,  5. ,  2.5,  1. ]))\n",
      "AndersonResult(statistic=1.2121628967400966, critical_values=array([0.447, 0.601, 0.714, 0.827, 0.979]), significance_level=array([25. , 10. ,  5. ,  2.5,  1. ]))\n",
      "AndersonResult(statistic=1.2121628967400966, critical_values=array([0.447, 0.601, 0.714, 0.827, 0.979]), significance_level=array([25. , 10. ,  5. ,  2.5,  1. ]))\n",
      "AndersonResult(statistic=1.1847041375473104, critical_values=array([0.417, 0.55 , 0.645, 0.752, 0.886, 0.988]), significance_level=array([25. , 10. ,  5. ,  2.5,  1. ,  0.5]))\n"
     ]
    }
   ],
   "source": [
    "print(sp.stats.anderson(data1,dist='norm'))\n",
    "print(sp.stats.anderson(data1,dist='expon'))\n",
    "print(sp.stats.anderson(data1,dist='gumbel'))\n",
    "print(sp.stats.anderson(data1,dist='extreme1'))\n",
    "print(sp.stats.anderson(data1,dist='logistic'))\n"
   ]
  },
  {
   "cell_type": "code",
   "execution_count": 97,
   "metadata": {},
   "outputs": [
    {
     "name": "stdout",
     "output_type": "stream",
     "text": [
      "('norm', 0.12122249353653869)\n",
      "('gamma', 0.0015917838754208977)\n",
      "('beta', 0.0013498944998479945)\n",
      "('expon', 0.0013494428782933796)\n",
      "('t', 0.12120722356455849)\n",
      "('chi2', 0.0013494431256009804)\n",
      "('beta', 0.0013498944998479945)\n",
      "('uniform', 0.0013494428782933796)\n",
      "('lognorm', 0.0013641413327467522)\n",
      "('dweibull', 0.2872156647427465)\n",
      "('gumbel_r', 0.08829838367052578)\n",
      "관측 데이터  data1 : [2, 2, 2, 1, 1, 1, 3, 3, 1, 1, 1]\n",
      "제일 비슷한 분포 : dweibull\n",
      "pvalue : 0.287216\n"
     ]
    }
   ],
   "source": [
    "dist_name=['norm','gamma','beta','expon','t','chi2','beta','uniform','lognorm','dweibull','gumbel_r']\n",
    "dists=[]\n",
    "params={}\n",
    "for i in dist_name:\n",
    "    dist=getattr(sp.stats,i)\n",
    "    param=dist.fit(data1)\n",
    "    params[i]=param\n",
    "    D,p = stats.kstest(data1,i,param)\n",
    "    dists.append((i,p))\n",
    "\n",
    "for j in range(len(dists)):   \n",
    "    print(dists[j])   \n",
    "best,pp=(max(dists, key=lambda item : item[1]))\n",
    "print(\"관측 데이터  data1 : %s\" %data1)\n",
    "print('제일 비슷한 분포 : %s' %(best))\n",
    "print('pvalue : %f' %(pp))"
   ]
  },
  {
   "cell_type": "code",
   "execution_count": 41,
   "metadata": {},
   "outputs": [
    {
     "data": {
      "text/plain": [
       "<AxesSubplot:ylabel='Density'>"
      ]
     },
     "execution_count": 41,
     "metadata": {},
     "output_type": "execute_result"
    },
    {
     "data": {
      "image/png": "[encoded data removed]",
      "text/plain": [
       "<Figure size 432x288 with 1 Axes>"
      ]
     },
     "metadata": {
      "needs_background": "light"
     },
     "output_type": "display_data"
    }
   ],
   "source": [
    "sns.kdeplot(data1,shade=True)\n"
   ]
  },
  {
   "cell_type": "code",
   "execution_count": 45,
   "metadata": {},
   "outputs": [
    {
     "data": {
      "text/plain": [
       "(array([6., 3., 2.]),\n",
       " array([1.        , 1.66666667, 2.33333333, 3.        ]),\n",
       " <BarContainer object of 3 artists>)"
      ]
     },
     "execution_count": 45,
     "metadata": {},
     "output_type": "execute_result"
    },
    {
     "data": {
      "image/png": "[encoded data removed]",
      "text/plain": [
       "<Figure size 432x288 with 1 Axes>"
      ]
     },
     "metadata": {
      "needs_background": "light"
     },
     "output_type": "display_data"
    }
   ],
   "source": [
    "plt.hist(data1,bins=3)"
   ]
  },
  {
   "cell_type": "code",
   "execution_count": 98,
   "metadata": {},
   "outputs": [
    {
     "name": "stdout",
     "output_type": "stream",
     "text": [
      "('norm', 0.08818789155531404)\n",
      "('gamma', 0.00039587223694908635)\n",
      "('beta', 0.0010910111365036333)\n",
      "('expon', 0.00039585061132205586)\n",
      "('t', 0.0881779394803186)\n",
      "('chi2', 0.00039585064346948093)\n",
      "('beta', 0.0010910111365036333)\n",
      "('uniform', 0.00039585061132205586)\n",
      "('lognorm', 0.0003958602237509166)\n",
      "('dweibull', 0.03839174153624622)\n",
      "('gumbel_r', 0.06810264557971413)\n",
      "관측 데이터  data2 : [3, 4, 1, 1, 1, 1, 1]\n",
      "제일 비슷한 분포 : norm\n",
      "pvalue : 0.088188\n"
     ]
    }
   ],
   "source": [
    "dist_name=['norm','gamma','beta','expon','t','chi2','beta','uniform','lognorm','dweibull','gumbel_r']\n",
    "dists=[]\n",
    "params={}\n",
    "for i in dist_name:\n",
    "    dist=getattr(sp.stats,i)\n",
    "    param=dist.fit(data2)\n",
    "    params[i]=param\n",
    "    D,p = stats.kstest(data2,i,param)\n",
    "    dists.append((i,p))\n",
    "\n",
    "for j in range(len(dists)):   \n",
    "    print(dists[j])   \n",
    "best,pp=(max(dists, key=lambda item : item[1]))\n",
    "print(\"관측 데이터  data2 : %s\" %data2)\n",
    "print('제일 비슷한 분포 : %s' %(best))\n",
    "print('pvalue : %f' %(pp))"
   ]
  },
  {
   "cell_type": "code",
   "execution_count": 99,
   "metadata": {},
   "outputs": [
    {
     "data": {
      "text/plain": [
       "<AxesSubplot:ylabel='Density'>"
      ]
     },
     "execution_count": 99,
     "metadata": {},
     "output_type": "execute_result"
    },
    {
     "data": {
      "image/png": "[encoded data removed]",
      "text/plain": [
       "<Figure size 432x288 with 1 Axes>"
      ]
     },
     "metadata": {
      "needs_background": "light"
     },
     "output_type": "display_data"
    }
   ],
   "source": [
    "sns.kdeplot(data2,shade=True)"
   ]
  },
  {
   "cell_type": "code",
   "execution_count": 100,
   "metadata": {},
   "outputs": [
    {
     "name": "stdout",
     "output_type": "stream",
     "text": [
      "('norm', 0.943850931522208)\n",
      "('gamma', 0.5129398024546747)\n",
      "('beta', 0.7777801283631974)\n",
      "('expon', 0.7777777777777778)\n",
      "('t', 0.9437722800840431)\n",
      "('chi2', 0.777777778363598)\n",
      "('beta', 0.7777801283631974)\n",
      "('uniform', 0.7777777777777778)\n",
      "('lognorm', 0.5837277611265881)\n",
      "('dweibull', 0.9980751444058005)\n",
      "('gumbel_r', 0.9820004160856852)\n",
      "관측 데이터  data13 : [4, 1, 2]\n",
      "제일 비슷한 분포 : dweibull\n",
      "pvalue : 0.998075\n"
     ]
    }
   ],
   "source": [
    "dist_name=['norm','gamma','beta','expon','t','chi2','beta','uniform','lognorm','dweibull','gumbel_r']\n",
    "dists=[]\n",
    "params={}\n",
    "for i in dist_name:\n",
    "    dist=getattr(sp.stats,i)\n",
    "    param=dist.fit(data13)\n",
    "    params[i]=param\n",
    "    D,p = stats.kstest(data13,i,param)\n",
    "    dists.append((i,p))\n",
    "\n",
    "for j in range(len(dists)):   \n",
    "    print(dists[j])   \n",
    "best,pp=(max(dists, key=lambda item : item[1]))\n",
    "print(\"관측 데이터  data13 : %s\" %data13)\n",
    "print('제일 비슷한 분포 : %s' %(best))\n",
    "print('pvalue : %f' %(pp))"
   ]
  },
  {
   "cell_type": "code",
   "execution_count": 56,
   "metadata": {},
   "outputs": [
    {
     "name": "stderr",
     "output_type": "stream",
     "text": [
      "/home/jas7801/.local/lib/python3.6/site-packages/scipy/stats/_continuous_distns.py:621: RuntimeWarning: invalid value encountered in sqrt\n",
      "  sk = 2*(b-a)*np.sqrt(a + b + 1) / (a + b + 2) / np.sqrt(a*b)\n",
      "/home/jas7801/.local/lib/python3.6/site-packages/scipy/optimize/minpack.py:175: RuntimeWarning: The iteration is not making good progress, as measured by the \n",
      "  improvement from the last ten iterations.\n",
      "  warnings.warn(msg, RuntimeWarning)\n"
     ]
    },
    {
     "name": "stdout",
     "output_type": "stream",
     "text": [
      "('norm', 0.9332490989253873)\n",
      "('gamma', 0.9329079020374489)\n",
      "('beta', 0.5005225902144192)\n",
      "('expon', 0.5)\n",
      "('t', 0.9332523652249822)\n",
      "('chi2', 0.500000022046249)\n",
      "('beta', 0.5005225902144192)\n",
      "('uniform', 0.5)\n",
      "('logistic', 0.9562386887787895)\n",
      "('lognorm', 0.5001308528703101)\n",
      "('dweibull', 0.972894625115854)\n",
      "('gumbel_r', 0.9252511594722632)\n",
      "관측 데이터  data15 : [2, 4]\n",
      "제일 비슷한 분포 : dweibull\n",
      "pvalue : 0.972895\n"
     ]
    }
   ],
   "source": [
    "dist_name=['norm','gamma','beta','expon','t','chi2','beta','uniform','logistic','lognorm','dweibull','gumbel_r']\n",
    "dists=[]\n",
    "params={}\n",
    "for i in dist_name:\n",
    "    dist=getattr(sp.stats,i)\n",
    "    param=dist.fit(data15)\n",
    "    params[i]=param\n",
    "    D,p = stats.kstest(data15,i,param)\n",
    "    dists.append((i,p))\n",
    "\n",
    "for j in range(len(dists)):   \n",
    "    print(dists[j])   \n",
    "best,pp=(max(dists, key=lambda item : item[1]))\n",
    "print(\"관측 데이터  data15 : %s\" %data15)\n",
    "print('제일 비슷한 분포 : %s' %(best))\n",
    "print('pvalue : %f' %(pp))"
   ]
  },
  {
   "cell_type": "code",
   "execution_count": 57,
   "metadata": {},
   "outputs": [
    {
     "data": {
      "text/plain": [
       "<AxesSubplot:ylabel='Density'>"
      ]
     },
     "execution_count": 57,
     "metadata": {},
     "output_type": "execute_result"
    },
    {
     "data": {
      "image/png": "[encoded data removed]",
      "text/plain": [
       "<Figure size 432x288 with 1 Axes>"
      ]
     },
     "metadata": {
      "needs_background": "light"
     },
     "output_type": "display_data"
    }
   ],
   "source": [
    "sns.kdeplot(data15,shade=True)"
   ]
  },
  {
   "cell_type": "code",
   "execution_count": 165,
   "metadata": {},
   "outputs": [
    {
     "name": "stderr",
     "output_type": "stream",
     "text": [
      "/home/jas7801/.local/lib/python3.6/site-packages/scipy/stats/_continuous_distns.py:621: RuntimeWarning: invalid value encountered in sqrt\n",
      "  sk = 2*(b-a)*np.sqrt(a + b + 1) / (a + b + 2) / np.sqrt(a*b)\n",
      "/home/jas7801/.local/lib/python3.6/site-packages/scipy/optimize/minpack.py:175: RuntimeWarning: The iteration is not making good progress, as measured by the \n",
      "  improvement from the last ten iterations.\n",
      "  warnings.warn(msg, RuntimeWarning)\n"
     ]
    },
    {
     "name": "stdout",
     "output_type": "stream",
     "text": [
      "('norm', 0.005813063599873436)\n",
      "('gamma', 2.65008745754367e-05)\n",
      "('beta', 2.7984200847196454e-05)\n",
      "('expon', 2.650080624827663e-05)\n",
      "('t', 0.00031858310707960635)\n",
      "('chi2', 2.6500806483987825e-05)\n",
      "('beta', 2.7984200847196454e-05)\n",
      "('uniform', 5.408636320931859e-12)\n",
      "('lognorm', 7.698415599123805e-05)\n",
      "('dweibull', 0.0026447057439997756)\n",
      "('gumbel_r', 0.03419161817873828)\n",
      "관측 데이터  data45 : [1, 2, 2, 1, 1, 2, 1, 1, 9, 1, 1, 1, 1, 2, 2, 2]\n",
      "제일 비슷한 분포 : gumbel_r\n",
      "pvalue : 0.034192\n"
     ]
    }
   ],
   "source": [
    "dist_name=['norm','gamma','beta','expon','t','chi2','beta','uniform','lognorm','dweibull','gumbel_r']\n",
    "dists=[]\n",
    "params={}\n",
    "for i in dist_name:\n",
    "    dist=getattr(sp.stats,i)\n",
    "    param=dist.fit(data45)\n",
    "    params[i]=param\n",
    "    D,p = stats.kstest(data45,i,param)\n",
    "    dists.append((i,p))\n",
    "\n",
    "for j in range(len(dists)):   \n",
    "    print(dists[j])   \n",
    "best,pp=(max(dists, key=lambda item : item[1]))\n",
    "print(\"관측 데이터  data45 : %s\" %data45)\n",
    "print('제일 비슷한 분포 : %s' %(best))\n",
    "print('pvalue : %f' %(pp))"
   ]
  },
  {
   "cell_type": "code",
   "execution_count": 164,
   "metadata": {},
   "outputs": [
    {
     "data": {
      "text/plain": [
       "<AxesSubplot:ylabel='Density'>"
      ]
     },
     "execution_count": 164,
     "metadata": {},
     "output_type": "execute_result"
    },
    {
     "data": {
      "image/png": "[encoded data removed]",
      "text/plain": [
       "<Figure size 432x288 with 1 Axes>"
      ]
     },
     "metadata": {
      "needs_background": "light"
     },
     "output_type": "display_data"
    }
   ],
   "source": [
    "sns.kdeplot(data45,shade=True)"
   ]
  },
  {
   "cell_type": "code",
   "execution_count": 163,
   "metadata": {},
   "outputs": [
    {
     "data": {
      "text/plain": [
       "<AxesSubplot:ylabel='Density'>"
      ]
     },
     "execution_count": 163,
     "metadata": {},
     "output_type": "execute_result"
    },
    {
     "data": {
      "image/png": "[encoded data removed]",
      "text/plain": [
       "<Figure size 432x288 with 1 Axes>"
      ]
     },
     "metadata": {
      "needs_background": "light"
     },
     "output_type": "display_data"
    }
   ],
   "source": [
    "sns.kdeplot(data15,shade=True)"
   ]
  },
  {
   "cell_type": "code",
   "execution_count": 160,
   "metadata": {},
   "outputs": [
    {
     "name": "stderr",
     "output_type": "stream",
     "text": [
      "/home/jas7801/.local/lib/python3.6/site-packages/scipy/stats/_continuous_distns.py:621: RuntimeWarning: invalid value encountered in sqrt\n",
      "  sk = 2*(b-a)*np.sqrt(a + b + 1) / (a + b + 2) / np.sqrt(a*b)\n"
     ]
    },
    {
     "name": "stdout",
     "output_type": "stream",
     "text": [
      "('norm', 0.00014516771323472774)\n",
      "('gamma', 3.34526987265427e-13)\n",
      "('beta', 2.661794984640506e-13)\n",
      "('expon', 2.660935797348587e-13)\n",
      "('t', 2.8582608070025608e-05)\n",
      "('chi2', 2.6609371368842857e-13)\n",
      "('beta', 2.661794984640506e-13)\n",
      "('uniform', 2.660935797348587e-13)\n",
      "('lognorm', 2.6762608029759654e-13)\n",
      "('dweibull', 5.355291442744665e-07)\n",
      "('gumbel_r', 1.9433074601012747e-05)\n",
      "관측 데이터  data28 : [2, 1, 1, 1, 4, 2, 1, 1, 2, 1, 2, 1, 1, 1, 1, 2, 1, 1, 1, 2, 1, 1, 1, 1, 2, 1, 3, 1]\n",
      "제일 비슷한 분포 : norm\n",
      "pvalue : 0.000145\n"
     ]
    }
   ],
   "source": [
    "dist_name=['norm','gamma','beta','expon','t','chi2','beta','uniform','lognorm','dweibull','gumbel_r']\n",
    "dists=[]\n",
    "params={}\n",
    "for i in dist_name:\n",
    "    dist=getattr(sp.stats,i)\n",
    "    param=dist.fit(data28)\n",
    "    params[i]=param\n",
    "    D,p = stats.kstest(data28,i,param)\n",
    "    dists.append((i,p))\n",
    "\n",
    "for j in range(len(dists)):   \n",
    "    print(dists[j])   \n",
    "best,pp=(max(dists, key=lambda item : item[1]))\n",
    "print(\"관측 데이터  data28 : %s\" %data28)\n",
    "print('제일 비슷한 분포 : %s' %(best))\n",
    "print('pvalue : %f' %(pp))"
   ]
  },
  {
   "cell_type": "code",
   "execution_count": 152,
   "metadata": {},
   "outputs": [],
   "source": [
    "ma=[1,2,2,3,3,3,4,4,4,4,5,5,5,5,5,5,6,6,6,6,6,6,6,6,6,6]"
   ]
  },
  {
   "cell_type": "code",
   "execution_count": 161,
   "metadata": {},
   "outputs": [
    {
     "data": {
      "text/plain": [
       "<AxesSubplot:ylabel='Density'>"
      ]
     },
     "execution_count": 161,
     "metadata": {},
     "output_type": "execute_result"
    },
    {
     "data": {
      "image/png": "[encoded data removed]",
      "text/plain": [
       "<Figure size 432x288 with 1 Axes>"
      ]
     },
     "metadata": {
      "needs_background": "light"
     },
     "output_type": "display_data"
    }
   ],
   "source": [
    "sns.kdeplot(data28)"
   ]
  },
  {
   "cell_type": "code",
   "execution_count": 96,
   "metadata": {},
   "outputs": [
    {
     "data": {
      "text/plain": [
       "(array([1., 3.]), array([1. , 1.5, 2. ]), <BarContainer object of 2 artists>)"
      ]
     },
     "execution_count": 96,
     "metadata": {},
     "output_type": "execute_result"
    },
    {
     "data": {
      "image/png": "[encoded data removed]",
      "text/plain": [
       "<Figure size 432x288 with 1 Axes>"
      ]
     },
     "metadata": {
      "needs_background": "light"
     },
     "output_type": "display_data"
    }
   ],
   "source": [
    "plt.hist(data40,bins=2)"
   ]
  },
  {
   "cell_type": "code",
   "execution_count": 153,
   "metadata": {},
   "outputs": [
    {
     "name": "stdout",
     "output_type": "stream",
     "text": [
      "('norm', 0.1430099970772427)\n",
      "('gamma', 0.1344290562978917)\n",
      "('beta', 0.0005699993922614333)\n",
      "('expon', 0.004499400221313565)\n",
      "('t', 0.14332846646277597)\n",
      "('chi2', 0.13351793703520742)\n",
      "('beta', 0.0005699993922614333)\n",
      "('uniform', 0.00014122634161920473)\n",
      "('lognorm', 0.13501003616695584)\n",
      "('dweibull', 0.1278820686225728)\n",
      "('gumbel_r', 0.10555504740154331)\n",
      "관측 데이터  ma : [1, 2, 2, 3, 3, 3, 4, 4, 4, 4, 5, 5, 5, 5, 5, 5, 6, 6, 6, 6, 6, 6, 6, 6, 6, 6]\n",
      "제일 비슷한 분포 : t\n",
      "pvalue : 0.143328\n"
     ]
    }
   ],
   "source": [
    "dist_name=['norm','gamma','beta','expon','t','chi2','beta','uniform','lognorm','dweibull','gumbel_r']\n",
    "dists=[]\n",
    "params={}\n",
    "for i in dist_name:\n",
    "    dist=getattr(sp.stats,i)\n",
    "    param=dist.fit(ma)\n",
    "    params[i]=param\n",
    "    D,p = stats.kstest(ma,i,param)\n",
    "    dists.append((i,p))\n",
    "\n",
    "for j in range(len(dists)):   \n",
    "    print(dists[j])   \n",
    "best,pp=(max(dists, key=lambda item : item[1]))\n",
    "print(\"관측 데이터  ma : %s\" %ma)\n",
    "print('제일 비슷한 분포 : %s' %(best))\n",
    "print('pvalue : %f' %(pp))"
   ]
  },
  {
   "cell_type": "code",
   "execution_count": 155,
   "metadata": {},
   "outputs": [
    {
     "data": {
      "text/plain": [
       "<AxesSubplot:ylabel='Density'>"
      ]
     },
     "execution_count": 155,
     "metadata": {},
     "output_type": "execute_result"
    },
    {
     "data": {
      "image/png": "[encoded data removed]",
      "text/plain": [
       "<Figure size 432x288 with 1 Axes>"
      ]
     },
     "metadata": {
      "needs_background": "light"
     },
     "output_type": "display_data"
    }
   ],
   "source": [
    "\n",
    "sns.kdeplot(ma)"
   ]
  },
  {
   "cell_type": "code",
   "execution_count": 157,
   "metadata": {},
   "outputs": [
    {
     "data": {
      "text/plain": [
       "(array([ 3.,  7., 16.]),\n",
       " array([1.        , 2.66666667, 4.33333333, 6.        ]),\n",
       " <BarContainer object of 3 artists>)"
      ]
     },
     "execution_count": 157,
     "metadata": {},
     "output_type": "execute_result"
    },
    {
     "data": {
      "image/png": "[encoded data removed]",
      "text/plain": [
       "<Figure size 432x288 with 1 Axes>"
      ]
     },
     "metadata": {
      "needs_background": "light"
     },
     "output_type": "display_data"
    }
   ],
   "source": [
    "plt.hist(ma,bins=3)"
   ]
  },
  {
   "cell_type": "code",
   "execution_count": 136,
   "metadata": {},
   "outputs": [
    {
     "data": {
      "text/plain": [
       "<AxesSubplot:ylabel='Density'>"
      ]
     },
     "execution_count": 136,
     "metadata": {},
     "output_type": "execute_result"
    },
    {
     "data": {
      "image/png": "[encoded data removed]",
      "text/plain": [
       "<Figure size 432x288 with 1 Axes>"
      ]
     },
     "metadata": {
      "needs_background": "light"
     },
     "output_type": "display_data"
    }
   ],
   "source": [
    "sns.kdeplot(data60)"
   ]
  },
  {
   "cell_type": "code",
   "execution_count": 141,
   "metadata": {},
   "outputs": [],
   "source": [
    "aa=[1,4]"
   ]
  },
  {
   "cell_type": "code",
   "execution_count": 148,
   "metadata": {},
   "outputs": [
    {
     "data": {
      "text/plain": [
       "<AxesSubplot:ylabel='Density'>"
      ]
     },
     "execution_count": 148,
     "metadata": {},
     "output_type": "execute_result"
    },
    {
     "data": {
      "image/png": "[encoded data removed]",
      "text/plain": [
       "<Figure size 432x288 with 1 Axes>"
      ]
     },
     "metadata": {
      "needs_background": "light"
     },
     "output_type": "display_data"
    }
   ],
   "source": [
    "sns.kdeplot(data15)"
   ]
  },
  {
   "cell_type": "code",
   "execution_count": 159,
   "metadata": {},
   "outputs": [
    {
     "data": {
      "text/plain": [
       "(array([19.,  7.,  2.]),\n",
       " array([1., 2., 3., 4.]),\n",
       " <BarContainer object of 3 artists>)"
      ]
     },
     "execution_count": 159,
     "metadata": {},
     "output_type": "execute_result"
    },
    {
     "data": {
      "image/png": "[encoded data removed]",
      "text/plain": [
       "<Figure size 432x288 with 1 Axes>"
      ]
     },
     "metadata": {
      "needs_background": "light"
     },
     "output_type": "display_data"
    }
   ],
   "source": [
    "plt.hist(data28,bins=3)"
   ]
  },
  {
   "cell_type": "code",
   "execution_count": 162,
   "metadata": {},
   "outputs": [
    {
     "data": {
      "text/plain": [
       "<AxesSubplot:ylabel='Density'>"
      ]
     },
     "execution_count": 162,
     "metadata": {},
     "output_type": "execute_result"
    },
    {
     "data": {
      "image/png": "[encoded data removed]",
      "text/plain": [
       "<Figure size 432x288 with 1 Axes>"
      ]
     },
     "metadata": {
      "needs_background": "light"
     },
     "output_type": "display_data"
    }
   ],
   "source": [
    "sns.kdeplot(data28)"
   ]
  },
  {
   "cell_type": "code",
   "execution_count": 175,
   "metadata": {},
   "outputs": [],
   "source": [
    "new=[1,2,3,4,4,4,4,4]"
   ]
  },
  {
   "cell_type": "code",
   "execution_count": 192,
   "metadata": {},
   "outputs": [
    {
     "name": "stdout",
     "output_type": "stream",
     "text": [
      "('norm', 0.0001415419319835997)\n",
      "('gamma', 9.971429044324126e-12)\n",
      "('beta', 9.93868028661264e-12)\n",
      "('expon', 9.938679352145472e-12)\n",
      "('t', 0.0001417333048534175)\n",
      "('chi2', 9.93867935858775e-12)\n",
      "('beta', 9.93868028661264e-12)\n",
      "('uniform', 9.938679352145472e-12)\n",
      "('lognorm', 9.939100871263218e-12)\n",
      "('dweibull', 2.629386068394312e-05)\n",
      "('gumbel_r', 4.673368635309703e-05)\n",
      "관측 데이터  data32 : [3, 3, 1, 1, 1, 1, 5, 3, 1, 1, 1, 3, 1, 2, 3, 2, 3, 1, 1, 1, 1, 3, 1, 1, 3, 4, 4, 1, 1, 1, 1, 3, 1, 1]\n",
      "제일 비슷한 분포 : t\n",
      "pvalue : 0.000142\n"
     ]
    }
   ],
   "source": [
    "dist_name=['norm','gamma','beta','expon','t','chi2','beta','uniform','lognorm','dweibull','gumbel_r']\n",
    "dists=[]\n",
    "params={}\n",
    "for i in dist_name:\n",
    "    dist=getattr(sp.stats,i)\n",
    "    param=dist.fit(data32)\n",
    "    params[i]=param\n",
    "    D,p = stats.kstest(data32,i,param)\n",
    "    dists.append((i,p))\n",
    "\n",
    "for j in range(len(dists)):   \n",
    "    print(dists[j])   \n",
    "best,pp=(max(dists, key=lambda item : item[1]))\n",
    "print(\"관측 데이터  data32 : %s\" %data32)\n",
    "print('제일 비슷한 분포 : %s' %(best))\n",
    "print('pvalue : %f' %(pp))"
   ]
  },
  {
   "cell_type": "code",
   "execution_count": 191,
   "metadata": {},
   "outputs": [
    {
     "data": {
      "text/plain": [
       "<AxesSubplot:ylabel='Density'>"
      ]
     },
     "execution_count": 191,
     "metadata": {},
     "output_type": "execute_result"
    },
    {
     "data": {
      "image/png": "[encoded data removed]",
      "text/plain": [
       "<Figure size 432x288 with 1 Axes>"
      ]
     },
     "metadata": {
      "needs_background": "light"
     },
     "output_type": "display_data"
    }
   ],
   "source": [
    "sns.kdeplot(data32)"
   ]
  },
  {
   "cell_type": "code",
   "execution_count": 190,
   "metadata": {},
   "outputs": [
    {
     "data": {
      "text/plain": [
       "<seaborn.axisgrid.FacetGrid at 0x7f0cd2f37048>"
      ]
     },
     "execution_count": 190,
     "metadata": {},
     "output_type": "execute_result"
    },
    {
     "data": {
      "image/png": "[encoded data removed]",
      "text/plain": [
       "<Figure size 360x360 with 1 Axes>"
      ]
     },
     "metadata": {
      "needs_background": "light"
     },
     "output_type": "display_data"
    }
   ],
   "source": [
    "sns.displot(data32,kde=True)"
   ]
  },
  {
   "cell_type": "code",
   "execution_count": 189,
   "metadata": {},
   "outputs": [
    {
     "data": {
      "text/plain": [
       "(array([22.,  9.,  3.]),\n",
       " array([1.        , 2.33333333, 3.66666667, 5.        ]),\n",
       " <BarContainer object of 3 artists>)"
      ]
     },
     "execution_count": 189,
     "metadata": {},
     "output_type": "execute_result"
    },
    {
     "data": {
      "image/png": "[encoded data removed]",
      "text/plain": [
       "<Figure size 432x288 with 1 Axes>"
      ]
     },
     "metadata": {
      "needs_background": "light"
     },
     "output_type": "display_data"
    }
   ],
   "source": [
    "plt.hist(data32,bins=3)"
   ]
  },
  {
   "cell_type": "code",
   "execution_count": 3,
   "metadata": {},
   "outputs": [],
   "source": [
    "import numpy as np"
   ]
  },
  {
   "cell_type": "code",
   "execution_count": 196,
   "metadata": {},
   "outputs": [],
   "source": [
    "rand_norm = np.random.normal(3, 2, size=100)"
   ]
  },
  {
   "cell_type": "code",
   "execution_count": 199,
   "metadata": {},
   "outputs": [
    {
     "name": "stderr",
     "output_type": "stream",
     "text": [
      "/home/jas7801/.local/lib/python3.6/site-packages/scipy/optimize/minpack.py:175: RuntimeWarning: The iteration is not making good progress, as measured by the \n",
      "  improvement from the last ten iterations.\n",
      "  warnings.warn(msg, RuntimeWarning)\n"
     ]
    },
    {
     "name": "stdout",
     "output_type": "stream",
     "text": [
      "('norm', 0.9779924971403672)\n",
      "('gamma', 0.9813382197876149)\n",
      "('beta', 0.9746903365925726)\n",
      "('expon', 2.7108771443991807e-09)\n",
      "('t', 0.9845962643761182)\n",
      "('chi2', 0.8680065464537665)\n",
      "('beta', 0.9746903365925726)\n",
      "('uniform', 0.0010988947828156099)\n",
      "('lognorm', 0.9790196333374113)\n",
      "('gumbel_r', 0.24222201991689346)\n",
      "관측 데이터  rand_norm : [ 3.53863398e+00  2.28486876e+00  1.56491820e+00  3.39338547e+00\n",
      "  2.08824682e+00  1.25794921e+00 -2.07805782e-01  1.12386389e+00\n",
      "  3.66125988e+00 -1.29393654e+00  3.77342948e+00  2.05693874e+00\n",
      " -7.25296243e-01  3.66126689e+00  2.69497514e+00  7.03397028e-03\n",
      " -5.32567255e-01  4.22450025e+00  4.72780849e+00  3.77814317e+00\n",
      "  4.22036175e+00  2.19847236e+00  5.06703053e+00  7.84891714e-01\n",
      "  3.16083368e+00  4.17547681e+00  1.00466343e+00 -1.42671121e+00\n",
      "  2.50494273e+00  5.33138787e+00  1.24289697e+00  3.05123343e+00\n",
      "  3.30953091e+00  9.43761321e-01  3.25551210e+00 -2.70508107e+00\n",
      "  2.29698513e+00  1.44305712e+00  1.80906029e+00  3.59073359e+00\n",
      "  5.34437312e+00  2.68804177e+00  3.47551317e+00  1.80702835e+00\n",
      " -3.60744354e-01  4.47524859e+00  1.98965022e+00  2.63729567e+00\n",
      "  2.52051458e+00  6.07155861e+00  3.70460237e+00  4.45863023e+00\n",
      " -1.27899701e+00  1.90018308e+00  1.79982533e+00  4.29078768e+00\n",
      " -5.57215332e-01  8.26260169e+00  8.49782266e+00  5.69376674e+00\n",
      " -3.89165396e-01  3.03271088e+00  3.68204572e+00  4.94073871e+00\n",
      "  2.02765421e+00  6.09757139e+00  1.66002474e+00  5.17615972e+00\n",
      "  3.09191319e+00  1.22944249e+00  3.98071111e+00  3.26807463e+00\n",
      "  3.14687488e+00  3.31409708e-01  3.44633605e+00  3.82334050e+00\n",
      "  3.64906304e+00  1.58308600e+00  4.88211160e+00  3.12068383e+00\n",
      "  2.65686033e+00  2.86326437e+00 -1.44630237e+00  7.62400831e+00\n",
      "  6.96982932e+00  3.94729381e-01  4.39121807e-01  1.91436342e+00\n",
      "  4.40105414e+00  2.96564643e+00  3.83176103e+00  2.23297071e+00\n",
      "  4.56971154e+00  4.13225836e+00  6.25667387e+00  4.98101689e+00\n",
      "  5.90290372e+00  2.32157528e+00  1.35903419e-01  1.37664189e+00]\n",
      "제일 비슷한 분포 : t\n",
      "pvalue : 0.984596\n"
     ]
    }
   ],
   "source": [
    "dist_name=['norm','gamma','beta','expon','t','chi2','beta','uniform','lognorm','gumbel_r']\n",
    "dists=[]\n",
    "params={}\n",
    "for i in dist_name:\n",
    "    dist=getattr(sp.stats,i)\n",
    "    param=dist.fit(rand)\n",
    "    params[i]=param\n",
    "    D,p = stats.kstest(rand,i,param)\n",
    "    dists.append((i,p))\n",
    "\n",
    "for j in range(len(dists)):   \n",
    "    print(dists[j])   \n",
    "best,pp=(max(dists, key=lambda item : item[1]))\n",
    "print(\"관측 데이터  rand : %s\" %rand)\n",
    "print('제일 비슷한 분포 : %s' %(best))\n",
    "print('pvalue : %f' %(pp))"
   ]
  },
  {
   "cell_type": "code",
   "execution_count": 202,
   "metadata": {},
   "outputs": [],
   "source": [
    "rand_t = np.random.standard_t(df=3, size=100)"
   ]
  },
  {
   "cell_type": "code",
   "execution_count": 203,
   "metadata": {},
   "outputs": [
    {
     "name": "stderr",
     "output_type": "stream",
     "text": [
      "/home/jas7801/.local/lib/python3.6/site-packages/scipy/stats/_continuous_distns.py:621: RuntimeWarning: invalid value encountered in sqrt\n",
      "  sk = 2*(b-a)*np.sqrt(a + b + 1) / (a + b + 2) / np.sqrt(a*b)\n",
      "/home/jas7801/.local/lib/python3.6/site-packages/scipy/optimize/minpack.py:175: RuntimeWarning: The iteration is not making good progress, as measured by the \n",
      "  improvement from the last ten iterations.\n",
      "  warnings.warn(msg, RuntimeWarning)\n"
     ]
    },
    {
     "name": "stdout",
     "output_type": "stream",
     "text": [
      "('norm', 0.01304138726426042)\n",
      "('gamma', 0.0030622533790897067)\n",
      "('beta', 0.1948130894999045)\n",
      "('expon', 1.9577742842009817e-23)\n",
      "('t', 0.873146210536123)\n",
      "('chi2', 2.6255851806059933e-106)\n",
      "('beta', 0.1948130894999045)\n",
      "('uniform', 2.286281700978758e-30)\n",
      "('lognorm', 0.01109407883969649)\n",
      "('gumbel_r', 2.342280474095389e-06)\n",
      "관측 데이터  rand_t : [ -0.50984753   1.0071952   -4.00190825   2.03653227   0.06974949\n",
      "   1.30918157  -6.63914203  -0.42860863   2.57641867   0.32081878\n",
      "  -0.34304459   0.11521529   0.07543482  -1.58682201  -1.45293416\n",
      "   0.52356639  -0.54370608   0.33389021  -0.40358377  -1.56030739\n",
      "   2.65867905  -1.70350036   0.64240183   0.57328927  -0.74774092\n",
      "   0.81846996  -0.38812175  -5.16194299   0.74037671   2.57506779\n",
      "  -0.45675824   0.89357028   0.18264899   0.10362044  -2.11006838\n",
      "   1.69647178  -0.45364688   0.91079138   0.1228694    1.14820148\n",
      "  -0.29277482 -12.45245779  -0.01581494  -0.32084709   1.21320988\n",
      "  -0.9556384   -0.58596519  -0.25472247  -0.39577239   0.38324396\n",
      "   0.32944216  -0.28539999  -0.32062834  -0.93604828   0.89275453\n",
      "  -1.03569645  -3.26670553  -2.21430437  -0.29810083  -0.11887175\n",
      "  -0.32634495   1.06249087  -1.46135856  -0.40731044  -1.14219683\n",
      "   1.03475832   0.52252392   1.77351784  -1.57937489   1.63820765\n",
      "   0.44588879  -1.46159726  -0.02079879   0.03643726   1.92875117\n",
      "  -0.05987642   1.66334731  -2.65491072  -1.14060936   0.25704658\n",
      "   0.42818437  -0.72536619  -0.3630891   -1.81028988  -3.37114289\n",
      "   0.63004691   1.70336409  -0.03185728   3.73465659  -1.89183923\n",
      "   0.02558781  -1.21884645  -0.61845655  -0.24685083   1.19884387\n",
      "   0.94248935   1.76684534  -1.18294603   2.85590426   0.95418964]\n",
      "제일 비슷한 분포 : t\n",
      "pvalue : 0.873146\n"
     ]
    }
   ],
   "source": [
    "dist_name=['norm','gamma','beta','expon','t','chi2','beta','uniform','lognorm','gumbel_r']\n",
    "dists=[]\n",
    "params={}\n",
    "for i in dist_name:\n",
    "    dist=getattr(sp.stats,i)\n",
    "    param=dist.fit(rand_t)\n",
    "    params[i]=param\n",
    "    D,p = stats.kstest(rand_t,i,param)\n",
    "    dists.append((i,p))\n",
    "\n",
    "for j in range(len(dists)):   \n",
    "    print(dists[j])   \n",
    "best,pp=(max(dists, key=lambda item : item[1]))\n",
    "print(\"관측 데이터  rand_t : %s\" %rand_t)\n",
    "print('제일 비슷한 분포 : %s' %(best))\n",
    "print('pvalue : %f' %(pp))"
   ]
  },
  {
   "cell_type": "code",
   "execution_count": 204,
   "metadata": {},
   "outputs": [],
   "source": [
    "rand_unif = np.random.uniform(low=0.0, high=10.0, size=100)"
   ]
  },
  {
   "cell_type": "code",
   "execution_count": 205,
   "metadata": {},
   "outputs": [
    {
     "name": "stdout",
     "output_type": "stream",
     "text": [
      "('norm', 0.35520605576932923)\n",
      "('gamma', 0.338763420444842)\n",
      "('beta', 0.2982791983832445)\n",
      "('expon', 0.0008117072103796666)\n",
      "('t', 0.3554563709750117)\n",
      "('chi2', 0.30898992099740863)\n",
      "('beta', 0.2982791983832445)\n",
      "('uniform', 0.8872560063269035)\n",
      "('lognorm', 0.35429396862952717)\n",
      "('gumbel_r', 0.22052681310409405)\n",
      "관측 데이터  rand_unif : [7.40357152 0.23719704 9.73380856 3.42678802 7.15861787 7.97778428\n",
      " 1.8832793  4.39386542 1.48057415 6.14501289 7.59166691 7.99465218\n",
      " 7.67930258 4.98883937 7.99623373 6.5203144  1.23660256 7.25946428\n",
      " 6.83784702 7.07764058 3.76037279 3.66456063 7.57936358 0.87315501\n",
      " 8.31252634 7.93107859 7.45838389 3.0727824  9.42905941 5.76142213\n",
      " 7.51375738 2.51308882 5.46935013 9.14451053 5.84671317 6.47308946\n",
      " 1.71842799 9.30983646 4.89853733 0.67964394 4.55684486 9.59323724\n",
      " 9.50983761 3.36869212 6.67727435 9.70868988 7.18297001 1.53517993\n",
      " 4.87531404 9.34385812 4.60304671 4.94908977 7.50460797 3.08183709\n",
      " 1.8172397  5.1799606  8.40179125 2.78149597 0.56828272 6.1872102\n",
      " 0.6004457  1.01783716 4.78109012 3.58073571 7.41823057 6.30222223\n",
      " 0.72175371 3.77107798 5.3689838  0.77858723 7.81223139 7.41430031\n",
      " 0.47046906 2.77481421 8.32652829 4.72156538 1.1177165  0.46565858\n",
      " 4.48176355 9.75697556 5.55415629 5.15694036 2.23193122 4.90017351\n",
      " 7.372477   4.68465878 6.09730912 3.84119747 2.07260773 9.12574391\n",
      " 6.51805176 6.96775775 1.25437511 3.50273084 0.82398703 1.62688687\n",
      " 1.57790033 3.79194876 8.46484718 4.15434175]\n",
      "제일 비슷한 분포 : uniform\n",
      "pvalue : 0.887256\n"
     ]
    }
   ],
   "source": [
    "dist_name=['norm','gamma','beta','expon','t','chi2','beta','uniform','lognorm','gumbel_r']\n",
    "dists=[]\n",
    "params={}\n",
    "for i in dist_name:\n",
    "    dist=getattr(sp.stats,i)\n",
    "    param=dist.fit(rand_unif)\n",
    "    params[i]=param\n",
    "    D,p = stats.kstest(rand_unif,i,param)\n",
    "    dists.append((i,p))\n",
    "\n",
    "for j in range(len(dists)):   \n",
    "    print(dists[j])   \n",
    "best,pp=(max(dists, key=lambda item : item[1]))\n",
    "print(\"관측 데이터  rand_unif : %s\" %rand_unif)\n",
    "print('제일 비슷한 분포 : %s' %(best))\n",
    "print('pvalue : %f' %(pp))"
   ]
  },
  {
   "cell_type": "code",
   "execution_count": 214,
   "metadata": {},
   "outputs": [],
   "source": [
    "rand_chisq = np.random.chisquare(df=2, size=100)"
   ]
  },
  {
   "cell_type": "code",
   "execution_count": 215,
   "metadata": {},
   "outputs": [
    {
     "name": "stdout",
     "output_type": "stream",
     "text": [
      "('norm', 0.002414457225804506)\n",
      "('gamma', 0.3207030258376705)\n",
      "('beta', 0.0018680507873760162)\n",
      "('expon', 0.7092268686710337)\n",
      "('t', 0.0036973381452346027)\n",
      "('chi2', 0.8283882192441498)\n",
      "('beta', 0.0018680507873760162)\n",
      "('uniform', 3.421740637577826e-25)\n",
      "('gumbel_r', 0.07118728744127761)\n",
      "관측 데이터  rand_chisq : [1.85006441e+00 6.82970515e+00 2.69658014e-01 2.42265265e-01\n",
      " 7.84433880e-01 2.51047718e+00 9.87238101e-01 2.19999040e-01\n",
      " 3.26095354e-01 3.89220560e+00 1.10322848e+00 1.97246868e+00\n",
      " 8.16161463e-01 4.65750855e-01 2.68453475e+00 2.17060337e+00\n",
      " 1.60308047e+00 2.44273395e+00 7.20231907e-01 1.19551923e-01\n",
      " 2.55522192e-01 5.19332232e-01 2.30486530e+00 1.91266569e+00\n",
      " 8.23376330e+00 1.44500204e+00 2.19215632e+00 3.60740784e-02\n",
      " 6.13252172e-01 7.46912339e+00 8.27022470e-02 2.42825019e+00\n",
      " 2.23519209e+00 5.70222139e-01 1.95420520e+00 6.43160885e-03\n",
      " 2.12794057e+00 2.28907411e-01 1.24474539e-01 5.39646504e-02\n",
      " 3.58208052e-01 7.54286168e-01 7.43215499e+00 1.19648966e-01\n",
      " 2.30032246e-01 5.49581167e-01 1.34656597e+00 7.05760003e-01\n",
      " 2.99714261e-01 1.22119462e+00 6.96426411e-01 6.16997108e-02\n",
      " 2.31635415e+00 3.32737238e+00 1.35573119e+00 1.84549857e+00\n",
      " 7.40386902e-01 1.18189358e+00 1.09220436e+00 1.14616609e+00\n",
      " 4.62423349e-01 5.47901697e-01 2.58259791e-01 1.52406137e+00\n",
      " 1.39788306e+00 2.11882805e+00 4.89180471e+00 1.37928271e+00\n",
      " 4.21924633e+00 3.60681135e-01 3.54031951e+00 3.85739371e-01\n",
      " 4.84420072e-01 4.51285432e-02 2.15863024e+00 9.13451123e-01\n",
      " 7.12298487e+00 1.11524093e+00 5.28901558e+00 1.15275265e-01\n",
      " 2.91303538e-02 5.44499749e-01 1.94564400e+00 2.23006792e+00\n",
      " 1.50560480e+00 2.83996632e+00 2.59938033e+00 3.15717691e+00\n",
      " 7.85284971e-01 2.33019607e+00 3.13118724e+00 5.42564483e-01\n",
      " 8.22902360e+00 7.25462525e-02 2.08135806e+00 8.57657955e+00\n",
      " 1.71091920e+00 2.77224437e+00 2.87468271e+00 6.27184316e-01]\n",
      "제일 비슷한 분포 : chi2\n",
      "pvalue : 0.828388\n"
     ]
    }
   ],
   "source": [
    "dist_name=['norm','gamma','beta','expon','t','chi2','beta','uniform','gumbel_r']\n",
    "dists=[]\n",
    "params={}\n",
    "for i in dist_name:\n",
    "    dist=getattr(sp.stats,i)\n",
    "    param=dist.fit(rand_chisq)\n",
    "    params[i]=param\n",
    "    D,p = stats.kstest(rand_chisq,i,param)\n",
    "    dists.append((i,p))\n",
    "\n",
    "for j in range(len(dists)):   \n",
    "    print(dists[j])   \n",
    "best,pp=(max(dists, key=lambda item : item[1]))\n",
    "print(\"관측 데이터  rand_chisq : %s\" %rand_chisq)\n",
    "print('제일 비슷한 분포 : %s' %(best))\n",
    "print('pvalue : %f' %(pp))"
   ]
  },
  {
   "cell_type": "code",
   "execution_count": 21,
   "metadata": {},
   "outputs": [],
   "source": [
    "rand_norm = np.random.normal(0, 3, size=100)"
   ]
  },
  {
   "cell_type": "code",
   "execution_count": 22,
   "metadata": {},
   "outputs": [
    {
     "name": "stdout",
     "output_type": "stream",
     "text": [
      "('norm', 0.9899174501876605)\n",
      "('gamma', 0.9622320593025637)\n",
      "('beta', 0.9579689509906034)\n",
      "('expon', 1.0836344754514297e-14)\n",
      "('t', 0.9847375384696823)\n",
      "('chi2', 0.883709055576471)\n",
      "('beta', 0.9579689509906034)\n",
      "('uniform', 8.190886974840346e-10)\n",
      "('gumbel_r', 0.2830644389340814)\n",
      "관측 데이터  rand_norm : [ 1.06141693e+00  1.16911747e+00 -8.59472005e-01  4.88887911e+00\n",
      "  1.21730860e+00  5.90546556e-01 -1.99742633e-01  1.17368937e+00\n",
      " -3.77099350e+00  4.80498917e+00 -3.00473467e+00 -6.36349081e-01\n",
      "  2.52802156e+00 -4.64361950e+00  2.41203298e+00  3.20300390e+00\n",
      " -2.24279572e+00 -5.02835160e+00  9.21388519e-01 -4.10045947e+00\n",
      " -2.55036169e+00  4.37689977e+00 -1.99943631e+00 -1.42617731e+00\n",
      " -2.27562586e+00 -4.59901290e+00  9.65900308e-01 -2.59618048e+00\n",
      "  4.37888293e-02 -6.99859305e+00 -1.32000530e+00  1.56555660e+00\n",
      " -3.93863600e-01  1.85841967e+00 -1.08954579e+01 -3.87437879e+00\n",
      " -3.37245066e+00 -3.24328481e-02  2.53116981e+00 -2.83376119e+00\n",
      " -7.10696832e-01 -3.75157534e+00  3.97568284e+00 -3.72644077e+00\n",
      " -1.07938228e+00 -8.34752172e-01 -5.50070926e-01  2.16062061e+00\n",
      "  2.77847099e+00  1.33784308e+00 -3.09723733e-01  2.26793602e+00\n",
      "  4.57280853e+00  1.17759064e+00  1.59565090e+00  4.66259614e-03\n",
      " -8.94564751e-01 -1.30412988e+00 -3.31534013e+00 -1.00441293e+00\n",
      " -3.24247121e+00  7.14348528e-01  1.57808267e+00  1.67905334e+00\n",
      "  4.45087241e+00  4.73758208e-01 -8.43030836e-01 -3.13793357e-01\n",
      "  7.51078049e-01 -3.93915690e+00 -3.85246286e+00 -5.43977608e+00\n",
      " -5.74046077e-01  1.15529569e+00 -2.69314938e+00 -3.91356122e+00\n",
      "  4.94315033e+00 -1.60873471e+00 -2.44847707e+00  3.79802553e+00\n",
      " -5.67942381e+00 -3.46319767e+00 -7.45998716e+00 -1.32305879e+00\n",
      " -3.21121404e+00 -1.99301431e-01  5.53848790e+00 -3.44850734e+00\n",
      "  3.08869446e+00 -8.37779299e-01 -3.57586540e+00 -1.15915684e+00\n",
      "  1.90904899e-01 -4.99685633e+00  2.93442446e+00 -2.72571103e+00\n",
      " -8.52678335e-01 -3.11538964e+00 -1.51483984e+00  2.96900940e+00]\n",
      "제일 비슷한 분포 : norm\n",
      "pvalue : 0.989917\n"
     ]
    }
   ],
   "source": [
    "dist_name=['norm','gamma','beta','expon','t','chi2','beta','uniform','gumbel_r']\n",
    "dists=[]\n",
    "params={}\n",
    "for i in dist_name:\n",
    "    dist=getattr(sp.stats,i)\n",
    "    param=dist.fit(rand_norm)\n",
    "    params[i]=param\n",
    "    D,p = stats.kstest(rand_norm,i,param)\n",
    "    dists.append((i,p))\n",
    "\n",
    "for j in range(len(dists)):   \n",
    "    print(dists[j])   \n",
    "best,pp=(max(dists, key=lambda item : item[1]))\n",
    "print(\"관측 데이터  rand_norm : %s\" %rand_norm)\n",
    "print('제일 비슷한 분포 : %s' %(best))\n",
    "print('pvalue : %f' %(pp))"
   ]
  },
  {
   "cell_type": "code",
   "execution_count": null,
   "metadata": {},
   "outputs": [],
   "source": []
  }
 ],
 "metadata": {
  "interpreter": {
   "hash": "31f2aee4e71d21fbe5cf8b01ff0e069b9275f58929596ceb00d14d90e3e16cd6"
  },
  "kernelspec": {
   "display_name": "Python 3.6.9 64-bit",
   "language": "python",
   "name": "python3"
  },
  "language_info": {
   "codemirror_mode": {
    "name": "ipython",
    "version": 3
   },
   "file_extension": ".py",
   "mimetype": "text/x-python",
   "name": "python",
   "nbconvert_exporter": "python",
   "pygments_lexer": "ipython3",
   "version": "3.6.9"
  },
  "orig_nbformat": 4
 },
 "nbformat": 4,
 "nbformat_minor": 2
}
