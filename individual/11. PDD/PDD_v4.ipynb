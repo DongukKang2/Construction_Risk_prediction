{
 "cells": [
  {
   "cell_type": "markdown",
   "metadata": {},
   "source": [
    "# Probability distribution derivator_v2"
   ]
  },
  {
   "cell_type": "markdown",
   "metadata": {},
   "source": [
    "#### 파라미터 변경\n",
    "#### 20221019. 분포형태 추가(파라미터 값 계산 가능한 것으로)"
   ]
  },
  {
   "cell_type": "code",
   "execution_count": 1,
   "metadata": {},
   "outputs": [],
   "source": [
    "import numpy as np\n",
    "import pandas as pd\n",
    "import scipy\n",
    "from scipy import stats"
   ]
  },
  {
   "cell_type": "code",
   "execution_count": 2,
   "metadata": {},
   "outputs": [],
   "source": [
    "delay_pd = pd.read_csv('dataset_v4/리스크 기초자료_1차(1~7)_20221013_csv.csv')\n",
    "delay = []\n",
    "pre_data = []\n",
    "pre_temp = []\n",
    "cal_data = []\n",
    "cal_temp = []"
   ]
  },
  {
   "cell_type": "code",
   "execution_count": 3,
   "metadata": {},
   "outputs": [],
   "source": [
    "l_L3 = [\"토공\"]\n",
    "l_L4 = [\"본선\",\"IC/JC\",\"지선/부체도로\"]\n",
    "l_L7_1 = [\"흙깎기\",\"흙쌓기\",\"토공기타\"]\n",
    "l_L7_2 = [[\"토사\",\"리핑\",\"발파\",\"흙깎기기타\"],[\"노체\",\"노상\",\"흙쌓기기타\"],[\"비탈면보호공\",\"연약지반처리\",\"보강토옹벽\",\"콘크리트옹벽\",\"옹벽기타\",\"토공기타\"],]\n",
    "l_Risk = [\"소음/진동\",\"용지\",\"진입로\",\"기타\",\"물가변동\",\"지급신청\",\"수급변경\",\"업체변경\",\"문제검토\",\"문제협의\",\"설계변경\",\"시공계획\",\"업무\",\"검토\",\"문화재\",\"일반시설\",\"유해/분묘\",\"건설폐기물\",\"임목폐기물\",\"폐수\",\"우천\",\"태풍\",\"폭염\",\"폭설\",\"인적\",\"물적\"]"
   ]
  },
  {
   "cell_type": "code",
   "execution_count": 4,
   "metadata": {},
   "outputs": [],
   "source": [
    "for i in l_L4:\n",
    "    for j in l_L7_1:\n",
    "        for k in l_L7_2[l_L7_1.index(j)]:\n",
    "            for l in l_Risk:\n",
    "                search_L4 = delay_pd['L4'] == i\n",
    "                s_L4 = delay_pd[search_L4]\n",
    "                search_L7_1 = s_L4['L7-1'] == j\n",
    "                s_L7_1 = s_L4[search_L7_1]\n",
    "                search_L7_2 = s_L7_1['L7-2'] == k\n",
    "                s_L7_2 = s_L7_1[search_L7_2]\n",
    "                search_Risk = s_L7_2['중'] == l\n",
    "                s_Risk = s_L7_2[search_Risk]\n",
    "                \n",
    "                pre_temp = []\n",
    "                if s_Risk['중'].empty==False:\n",
    "                    pre_temp.append(s_Risk['No'])\n",
    "                    pre_temp.append(s_Risk['L3'])       \n",
    "                    pre_temp.append(s_Risk['L4'])\n",
    "                    pre_temp.append(s_Risk['L7-1'])\n",
    "                    pre_temp.append(s_Risk['L7-2'])\n",
    "                    pre_temp.append(s_Risk['대'])\n",
    "                    pre_temp.append(s_Risk['중'])\n",
    "                    pre_temp.append(s_Risk['실제공기'])\n",
    "                    pre_temp.append(s_Risk['공기지연'])\n",
    "                    pre_temp.append(s_Risk['공기지연'].count())\n",
    "                    pre_temp.append(s_Risk['공기지연'].mean())\n",
    "                    pre_temp.append(s_Risk['공기지연'].var())\n",
    "                    pre_temp.append(s_Risk['공기지연'].std())\n",
    "                    pre_temp.append(s_Risk['공기지연'].max())\n",
    "                    pre_temp.append(s_Risk['공기지연'].min())\n",
    "                    pre_data.append(pre_temp)\n",
    "\n",
    "                cal_temp = []\n",
    "                if s_Risk['중'].empty==False:\n",
    "                    cal_temp.append(s_Risk['No'].values)\n",
    "                    cal_temp.append(s_Risk['L3'].values)       \n",
    "                    cal_temp.append(s_Risk['L4'].values)\n",
    "                    cal_temp.append(s_Risk['L7-1'].values)\n",
    "                    cal_temp.append(s_Risk['L7-2'].values)\n",
    "                    cal_temp.append(s_Risk['대'].values)\n",
    "                    cal_temp.append(s_Risk['중'].values)\n",
    "                    cal_temp.append(s_Risk['실제공기'].values)\n",
    "                    cal_temp.append(s_Risk['공기지연'].values)\n",
    "                    cal_temp.append(s_Risk['공기지연'].count())\n",
    "                    cal_temp.append(s_Risk['공기지연'].mean())\n",
    "                    cal_temp.append(s_Risk['공기지연'].var())\n",
    "                    cal_temp.append(s_Risk['공기지연'].std())\n",
    "                    cal_temp.append(s_Risk['공기지연'].max())\n",
    "                    cal_temp.append(s_Risk['공기지연'].min())\n",
    "                    cal_data.append(cal_temp)"
   ]
  },
  {
   "cell_type": "code",
   "execution_count": 5,
   "metadata": {},
   "outputs": [],
   "source": [
    "df=pd.DataFrame(pre_data)\n",
    "df.to_csv(\"dataset_v3/preset_data_v3.csv\", encoding='utf-8-sig')\n",
    "df=pd.DataFrame(cal_data)\n",
    "df.to_csv(\"dataset_v3/cal_data_v3.csv\", encoding='utf-8-sig')"
   ]
  },
  {
   "cell_type": "code",
   "execution_count": 6,
   "metadata": {},
   "outputs": [],
   "source": [
    "new_temp = []\n",
    "new_data = []\n",
    "#new_data = [['공종\\n(L3)','시설물\\n(L4)','작업단위1\\n(L7)','작업단위2\\n(L7)','리스크종류','공기','리스크발생확률\\n(%)','확률분포','P-value','리스크횟수','평균\\n(지연일수)','분산\\n(지연일수)','표준편차\\n(지연일수)','최댓값\\n(지연일수)','최솟값\\n(지연일수)']]\n",
    "dist_names = [\"norm\", \"gamma\", \"beta\", \"expon\", \"t\", \"chi2\", \"uniform\"]\n",
    "dist_results = []\n",
    "params = {}\n",
    "count = 0"
   ]
  },
  {
   "cell_type": "code",
   "execution_count": 7,
   "metadata": {},
   "outputs": [
    {
     "name": "stderr",
     "output_type": "stream",
     "text": [
      "/home/min/.local/lib/python3.6/site-packages/scipy/stats/_distn_infrastructure.py:1844: RuntimeWarning: invalid value encountered in true_divide\n",
      "  x = np.asarray((x - loc)/scale, dtype=dtyp)\n",
      "/home/min/.local/lib/python3.6/site-packages/scipy/stats/_distn_infrastructure.py:400: RuntimeWarning: invalid value encountered in double_scalars\n",
      "  return m3 / np.power(m2, 1.5)\n",
      "/home/min/.local/lib/python3.6/site-packages/scipy/stats/_distn_infrastructure.py:411: RuntimeWarning: invalid value encountered in double_scalars\n",
      "  return m4 / m2**2 - 3\n",
      "/home/min/.local/lib/python3.6/site-packages/scipy/optimize/minpack.py:175: RuntimeWarning: The iteration is not making good progress, as measured by the \n",
      "  improvement from the last ten iterations.\n",
      "  warnings.warn(msg, RuntimeWarning)\n"
     ]
    },
    {
     "ename": "AttributeError",
     "evalue": "'poisson_gen' object has no attribute 'fit'",
     "output_type": "error",
     "traceback": [
      "\u001b[0;31m---------------------------------------------------------------------------\u001b[0m",
      "\u001b[0;31mAttributeError\u001b[0m                            Traceback (most recent call last)",
      "\u001b[0;32m<ipython-input-7-b32000cc809d>\u001b[0m in \u001b[0;36m<module>\u001b[0;34m\u001b[0m\n\u001b[1;32m     16\u001b[0m             \u001b[0;32mfor\u001b[0m \u001b[0mdist_name\u001b[0m \u001b[0;32min\u001b[0m \u001b[0mdist_names\u001b[0m\u001b[0;34m:\u001b[0m\u001b[0;34m\u001b[0m\u001b[0;34m\u001b[0m\u001b[0m\n\u001b[1;32m     17\u001b[0m                 \u001b[0mdist\u001b[0m \u001b[0;34m=\u001b[0m \u001b[0mgetattr\u001b[0m\u001b[0;34m(\u001b[0m\u001b[0mscipy\u001b[0m\u001b[0;34m.\u001b[0m\u001b[0mstats\u001b[0m\u001b[0;34m,\u001b[0m \u001b[0mdist_name\u001b[0m\u001b[0;34m)\u001b[0m\u001b[0;34m\u001b[0m\u001b[0;34m\u001b[0m\u001b[0m\n\u001b[0;32m---> 18\u001b[0;31m                 \u001b[0mparam\u001b[0m \u001b[0;34m=\u001b[0m \u001b[0mdist\u001b[0m\u001b[0;34m.\u001b[0m\u001b[0mfit\u001b[0m\u001b[0;34m(\u001b[0m\u001b[0mdata\u001b[0m\u001b[0;34m)\u001b[0m\u001b[0;34m\u001b[0m\u001b[0;34m\u001b[0m\u001b[0m\n\u001b[0m\u001b[1;32m     19\u001b[0m                 \u001b[0mparams\u001b[0m\u001b[0;34m[\u001b[0m\u001b[0mdist_name\u001b[0m\u001b[0;34m]\u001b[0m \u001b[0;34m=\u001b[0m \u001b[0mparam\u001b[0m\u001b[0;34m\u001b[0m\u001b[0;34m\u001b[0m\u001b[0m\n\u001b[1;32m     20\u001b[0m                 \u001b[0mD\u001b[0m\u001b[0;34m,\u001b[0m \u001b[0mp\u001b[0m \u001b[0;34m=\u001b[0m \u001b[0mstats\u001b[0m\u001b[0;34m.\u001b[0m\u001b[0mkstest\u001b[0m\u001b[0;34m(\u001b[0m\u001b[0mdata\u001b[0m\u001b[0;34m,\u001b[0m \u001b[0mdist_name\u001b[0m\u001b[0;34m,\u001b[0m \u001b[0mparam\u001b[0m\u001b[0;34m)\u001b[0m\u001b[0;34m\u001b[0m\u001b[0;34m\u001b[0m\u001b[0m\n",
      "\u001b[0;31mAttributeError\u001b[0m: 'poisson_gen' object has no attribute 'fit'"
     ]
    }
   ],
   "source": [
    "for i in range(0, len(cal_data)):\n",
    "    count = 0\n",
    "    new_temp = []\n",
    "    count = count + cal_data[i][7][0]\n",
    "    for j in range(1, len(cal_data[i][7])):\n",
    "        if cal_data[i][7][j-1]!=cal_data[i][7][j]:\n",
    "            count = count + cal_data[i][7][j]\n",
    "    for k in range(0, len(cal_data[i])):\n",
    "        if k == 7:\n",
    "            new_temp.append(count) \n",
    "        elif k == 8:\n",
    "            data = cal_data[i][8]\n",
    "            new_temp.append(cal_data[i][9]*100/count)\n",
    "            dist_results = []\n",
    "            params = {}\n",
    "            for dist_name in dist_names:\n",
    "                dist = getattr(scipy.stats, dist_name)\n",
    "                param = dist.fit(data)\n",
    "                params[dist_name] = param\n",
    "                D, p = stats.kstest(data, dist_name, param)\n",
    "                dist_results.append((dist_name, p))\n",
    "            best_dist, best_p = (max(dist_results, key=lambda item: item[1])) \n",
    "            new_temp.append(best_dist)\n",
    "            new_temp.append(best_p)\n",
    "        elif k >= 9:\n",
    "            new_temp.append(cal_data[i][k])\n",
    "        else:\n",
    "            if k != 0:\n",
    "                new_temp.append(cal_data[i][k][0])\n",
    "    new_data.append(new_temp)\n"
   ]
  },
  {
   "cell_type": "code",
   "execution_count": null,
   "metadata": {},
   "outputs": [],
   "source": [
    "df=pd.DataFrame(new_data)\n",
    "df.columns=[['공종\\n(L3)','시설물\\n(L4)','작업단위1\\n(L7)','작업단위2\\n(L7)','리스크종류(대)','리스크종류(중)','공기','리스크발생확률\\n(%)','확률분포','P-value','리스크횟수','평균\\n(지연일수)','분산\\n(지연일수)','표준편차\\n(지연일수)','최댓값\\n(지연일수)','최솟값\\n(지연일수)']]\n",
    "df=df[['공종\\n(L3)','시설물\\n(L4)','작업단위1\\n(L7)','작업단위2\\n(L7)','리스크종류(대)','리스크종류(중)','공기','리스크횟수','리스크발생확률\\n(%)','확률분포','P-value','평균\\n(지연일수)','분산\\n(지연일수)','표준편차\\n(지연일수)','최댓값\\n(지연일수)','최솟값\\n(지연일수)']]\n",
    "df.to_csv(\"dataset_v4/리스크 확률분포_20221013.csv\", encoding='utf-8-sig')"
   ]
  },
  {
   "cell_type": "code",
   "execution_count": null,
   "metadata": {},
   "outputs": [],
   "source": []
  }
 ],
 "metadata": {
  "interpreter": {
   "hash": "31f2aee4e71d21fbe5cf8b01ff0e069b9275f58929596ceb00d14d90e3e16cd6"
  },
  "kernelspec": {
   "display_name": "Python 3.6.9 64-bit",
   "language": "python",
   "name": "python3"
  },
  "language_info": {
   "codemirror_mode": {
    "name": "ipython",
    "version": 3
   },
   "file_extension": ".py",
   "mimetype": "text/x-python",
   "name": "python",
   "nbconvert_exporter": "python",
   "pygments_lexer": "ipython3",
   "version": "3.6.9"
  },
  "orig_nbformat": 4
 },
 "nbformat": 4,
 "nbformat_minor": 2
}
