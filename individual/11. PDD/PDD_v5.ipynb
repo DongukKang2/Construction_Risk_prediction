{
 "cells": [
  {
   "attachments": {},
   "cell_type": "markdown",
   "metadata": {},
   "source": [
    "# Probability distribution derivator_v5"
   ]
  },
  {
   "attachments": {},
   "cell_type": "markdown",
   "metadata": {},
   "source": [
    "#### 파라미터 변경\n",
    "#### 20221019. 분포형태 추가(파라미터 값 계산 가능한 것으로)\n",
    "#### 20230607. 확률분포 유형 변경 및 파라미터 계산 반영 +포장공"
   ]
  },
  {
   "cell_type": "code",
   "execution_count": 20,
   "metadata": {},
   "outputs": [],
   "source": [
    "import numpy as np\n",
    "import pandas as pd\n",
    "import scipy\n",
    "from scipy import stats"
   ]
  },
  {
   "cell_type": "code",
   "execution_count": 21,
   "metadata": {},
   "outputs": [],
   "source": [
    "delay_pd = pd.read_csv('dataset_v5/음성충주 1,3,4,5공구 포장공 리스크 기초자료_DEC_수정_230602.csv')\n",
    "delay = []\n",
    "pre_data = []\n",
    "pre_temp = []\n",
    "cal_data = []\n",
    "cal_temp = []"
   ]
  },
  {
   "cell_type": "code",
   "execution_count": 22,
   "metadata": {},
   "outputs": [],
   "source": [
    "l_L3 = [\"토공\",\"포장공\"]\n",
    "l_L4 = [\"본선\",\"IC/JC\",\"지선/부체도로\"]\n",
    "l_L7_1 = [\"흙깎기\",\"흙쌓기\",\"토공기타\",\"아스팔트\",\"콘크리트\",\"포장기타\"]\n",
    "l_L7_2 = [[\"토사\",\"리핑\",\"발파\",\"흙깎기기타\"],[\"노체\",\"노상\",\"흙쌓기기타\"],[\"비탈면보호공\",\"연약지반처리\",\"보강토옹벽\",\"콘크리트옹벽\",\"옹벽기타\",\"토공기타\"],[\"동상방지층\",\"린콘크리트포장\",\"콘크리트포장\",\"콘크리트포장기타\"],[\"동상방지층\",\"보조기층\",\"기층\",\"중간층\",\"표층\",\"아스팔트포장기타\"],[\"특수포장\",\"포장기타\"]]\n",
    "l_Risk = [\"소음/진동\",\"용지\",\"진입로\",\"기타\",\"물가변동\",\"지급신청\",\"수급변경\",\"업체변경\",\"문제검토\",\"문제협의\",\"설계변경\",\"시공계획\",\"업무\",\"검토\",\"문화재\",\"일반시설\",\"유해/분묘\",\"건설폐기물\",\"임목폐기물\",\"폐수\",\"우천\",\"태풍\",\"폭염\",\"폭설\",\"인적\",\"물적\",\"기타\"]"
   ]
  },
  {
   "cell_type": "code",
   "execution_count": 23,
   "metadata": {},
   "outputs": [],
   "source": [
    "for i in l_L4:\n",
    "    for j in l_L7_1:\n",
    "        for k in l_L7_2[l_L7_1.index(j)]:\n",
    "            for l in l_Risk:\n",
    "                search_L4 = delay_pd['L4'] == i\n",
    "                s_L4 = delay_pd[search_L4]\n",
    "                search_L7_1 = s_L4['L7-1'] == j\n",
    "                s_L7_1 = s_L4[search_L7_1]\n",
    "                search_L7_2 = s_L7_1['L7-2'] == k\n",
    "                s_L7_2 = s_L7_1[search_L7_2]\n",
    "                search_Risk = s_L7_2['중'] == l\n",
    "                s_Risk = s_L7_2[search_Risk]\n",
    "                \n",
    "                pre_temp = []\n",
    "                if s_Risk['중'].empty==False:\n",
    "                    pre_temp.append(s_Risk['No'])\n",
    "                    pre_temp.append(s_Risk['L3'])       \n",
    "                    pre_temp.append(s_Risk['L4'])\n",
    "                    pre_temp.append(s_Risk['L7-1'])\n",
    "                    pre_temp.append(s_Risk['L7-2'])\n",
    "                    pre_temp.append(s_Risk['대'])\n",
    "                    pre_temp.append(s_Risk['중'])\n",
    "                    pre_temp.append(s_Risk['실제공기'])\n",
    "                    pre_temp.append(s_Risk['공기지연'])\n",
    "                    pre_temp.append(s_Risk['공기지연'].count())\n",
    "                    pre_temp.append(s_Risk['공기지연'].mean())\n",
    "                    pre_temp.append(s_Risk['공기지연'].var())\n",
    "                    pre_temp.append(s_Risk['공기지연'].std())\n",
    "                    pre_temp.append(s_Risk['공기지연'].max())\n",
    "                    pre_temp.append(s_Risk['공기지연'].min())\n",
    "                    pre_data.append(pre_temp)\n",
    "\n",
    "                cal_temp = []\n",
    "                if s_Risk['중'].empty==False:\n",
    "                    cal_temp.append(s_Risk['No'].values)\n",
    "                    cal_temp.append(s_Risk['L3'].values)       \n",
    "                    cal_temp.append(s_Risk['L4'].values)\n",
    "                    cal_temp.append(s_Risk['L7-1'].values)\n",
    "                    cal_temp.append(s_Risk['L7-2'].values)\n",
    "                    cal_temp.append(s_Risk['대'].values)\n",
    "                    cal_temp.append(s_Risk['중'].values)\n",
    "                    cal_temp.append(s_Risk['실제공기'].values)\n",
    "                    cal_temp.append(s_Risk['공기지연'].values)\n",
    "                    cal_temp.append(s_Risk['공기지연'].count())\n",
    "                    cal_temp.append(s_Risk['공기지연'].mean())\n",
    "                    cal_temp.append(s_Risk['공기지연'].var())\n",
    "                    cal_temp.append(s_Risk['공기지연'].std())\n",
    "                    cal_temp.append(s_Risk['공기지연'].max())\n",
    "                    cal_temp.append(s_Risk['공기지연'].min())\n",
    "                    cal_data.append(cal_temp)"
   ]
  },
  {
   "cell_type": "code",
   "execution_count": 24,
   "metadata": {},
   "outputs": [],
   "source": [
    "# df=pd.DataFrame(pre_data)\n",
    "# df.to_csv(\"dataset_v5/preset_data_v5.csv\", encoding='utf-8-sig')\n",
    "# df=pd.DataFrame(cal_data)\n",
    "# df.to_csv(\"dataset_v5/cal_data_v5.csv\", encoding='utf-8-sig')"
   ]
  },
  {
   "cell_type": "code",
   "execution_count": 25,
   "metadata": {},
   "outputs": [],
   "source": [
    "new_temp = []\n",
    "new_data = []\n",
    "parm_temp = []\n",
    "parm_data = []\n",
    "#new_data = [['공종\\n(L3)','시설물\\n(L4)','작업단위1\\n(L7)','작업단위2\\n(L7)','리스크종류','공기','리스크발생확률\\n(%)','확률분포','P-value','리스크횟수','평균\\n(지연일수)','분산\\n(지연일수)','표준편차\\n(지연일수)','최댓값\\n(지연일수)','최솟값\\n(지연일수)']]\n",
    "dist_names = [\"norm\", \"gamma\", \"expon\", \"t\", \"chi2\"]\n",
    "dist_results = []\n",
    "params = {}\n",
    "count = 0"
   ]
  },
  {
   "cell_type": "code",
   "execution_count": 26,
   "metadata": {},
   "outputs": [
    {
     "name": "stderr",
     "output_type": "stream",
     "text": [
      "/home/min/.local/lib/python3.6/site-packages/scipy/stats/_distn_infrastructure.py:1844: RuntimeWarning: invalid value encountered in true_divide\n",
      "  x = np.asarray((x - loc)/scale, dtype=dtyp)\n",
      "/home/min/.local/lib/python3.6/site-packages/scipy/stats/_distn_infrastructure.py:400: RuntimeWarning: invalid value encountered in double_scalars\n",
      "  return m3 / np.power(m2, 1.5)\n"
     ]
    }
   ],
   "source": [
    "for i in range(0, len(cal_data)):\n",
    "    count = 0\n",
    "    new_temp = []\n",
    "    count = count + cal_data[i][7][0]\n",
    "    for j in range(1, len(cal_data[i][7])):\n",
    "        if cal_data[i][7][j-1]!=cal_data[i][7][j]:\n",
    "            count = count + cal_data[i][7][j]\n",
    "    for k in range(0, len(cal_data[i])):\n",
    "        if k == 7:\n",
    "            new_temp.append(count) \n",
    "        elif k == 8:\n",
    "            data = cal_data[i][8]\n",
    "            new_temp.append(cal_data[i][9]*100/count)\n",
    "            dist_results = []\n",
    "            params = {}\n",
    "            for dist_name in dist_names:\n",
    "                dist = getattr(scipy.stats, dist_name)\n",
    "                param = dist.fit(data)\n",
    "                params[dist_name] = param\n",
    "                D, p = stats.kstest(data, dist_name, param)\n",
    "                dist_results.append((dist_name, p))\n",
    "            best_dist, best_p = (max(dist_results, key=lambda item: item[1])) \n",
    "            new_temp.append(best_dist)\n",
    "            new_temp.append(best_p)\n",
    "        elif k >= 9:\n",
    "            new_temp.append(cal_data[i][k])\n",
    "        else:\n",
    "            if k != 0:\n",
    "                new_temp.append(cal_data[i][k][0])\n",
    "    new_data.append(new_temp)\n"
   ]
  },
  {
   "cell_type": "code",
   "execution_count": 12,
   "metadata": {},
   "outputs": [],
   "source": [
    "# df=pd.DataFrame(new_data)\n",
    "# df.columns=[['공종\\n(L3)','시설물\\n(L4)','작업단위1\\n(L7)','작업단위2\\n(L7)','리스크종류(대)','리스크종류(중)','공기','리스크발생확률\\n(%)','확률분포','P-value','리스크횟수','평균\\n(지연일수)','분산\\n(지연일수)','표준편차\\n(지연일수)','최댓값\\n(지연일수)','최솟값\\n(지연일수)']]\n",
    "# df=df[['공종\\n(L3)','시설물\\n(L4)','작업단위1\\n(L7)','작업단위2\\n(L7)','리스크종류(대)','리스크종류(중)','공기','리스크횟수','리스크발생확률\\n(%)','확률분포','P-value','평균\\n(지연일수)','분산\\n(지연일수)','표준편차\\n(지연일수)','최댓값\\n(지연일수)','최솟값\\n(지연일수)']]\n",
    "# df.to_csv(\"dataset_v5/리스크 확률분포_파라미터입력전_20230607.csv\", encoding='utf-8-sig')"
   ]
  },
  {
   "cell_type": "code",
   "execution_count": 27,
   "metadata": {},
   "outputs": [
    {
     "data": {
      "text/plain": [
       "15"
      ]
     },
     "execution_count": 27,
     "metadata": {},
     "output_type": "execute_result"
    }
   ],
   "source": [
    "len(new_data)"
   ]
  },
  {
   "cell_type": "code",
   "execution_count": 45,
   "metadata": {},
   "outputs": [
    {
     "name": "stdout",
     "output_type": "stream",
     "text": [
      "t\n",
      "0.7161089508423335\n",
      "4\n",
      "1.75\n",
      "0.9166666666666666\n",
      "0.9574271077563381\n",
      "3\n",
      "1\n"
     ]
    }
   ],
   "source": [
    "print(new_data[0][8]) #확률분포\n",
    "print(new_data[0][9]) #p-value\n",
    "print(new_data[0][10]) #리스크횟수\n",
    "print(new_data[0][11]) #평균\n",
    "print(new_data[0][12]) #분산\n",
    "print(new_data[0][13]) #표준편차\n",
    "print(new_data[0][14]) #최댓값\n",
    "print(new_data[0][15]) #최솟값"
   ]
  },
  {
   "cell_type": "code",
   "execution_count": 46,
   "metadata": {},
   "outputs": [],
   "source": [
    "# \"norm\", \"gamma\", \"expon\", \"t\", \"chi2\"\n",
    "for i in range(0, len(new_data)):\n",
    "    parm_temp = new_data[i]\n",
    "    if new_data[i][8] == 'norm':\n",
    "        parm1 = new_data[i][11] #E(x)\n",
    "        parm2 = new_data[i][13] #sigma(x)\n",
    "        parm_temp.append(parm1)\n",
    "        parm_temp.append(parm2)\n",
    "\n",
    "    elif new_data[i][8] == 'gamma':\n",
    "        e = new_data[i][11] #평균\n",
    "        s = new_data[i][13] #표준편차\n",
    "        parm1 = e*e/s*s #shape\n",
    "        parm2 = e/s*s #inverse scale\n",
    "        parm_temp.append(parm1)\n",
    "        parm_temp.append(parm2)\n",
    "\n",
    "    elif new_data[i][8] == 'expon':\n",
    "        e = new_data[i][11] #평균\n",
    "        parm2 = 1/e\n",
    "        parm_temp.append('')\n",
    "        parm_temp.append(parm2)\n",
    "\n",
    "    elif new_data[i][8] == 't':\n",
    "        num = new_data[i][10] #표본갯수\n",
    "        parm1 = num-1\n",
    "        parm_temp.append(parm1)\n",
    "        parm_temp.append('')\n",
    "\n",
    "    elif new_data[i][8] == 'chi2':\n",
    "        num = new_data[i][10] #표본갯수\n",
    "        parm1 = num-1\n",
    "        parm_temp.append(parm1)\n",
    "        parm_temp.append('')\n",
    "\n",
    "    parm_data.append(parm_temp)\n"
   ]
  },
  {
   "cell_type": "code",
   "execution_count": 48,
   "metadata": {},
   "outputs": [],
   "source": [
    "df=pd.DataFrame(parm_data)\n",
    "df.columns=[['공종\\n(L3)','시설물\\n(L4)','작업단위1\\n(L7)','작업단위2\\n(L7)','리스크종류(대)','리스크종류(중)','공기','리스크발생확률\\n(%)','확률분포','P-value','리스크횟수','평균\\n(지연일수)','분산\\n(지연일수)','표준편차\\n(지연일수)','최댓값\\n(지연일수)','최솟값\\n(지연일수)','param1','param2']]\n",
    "df=df[['공종\\n(L3)','시설물\\n(L4)','작업단위1\\n(L7)','작업단위2\\n(L7)','리스크종류(대)','리스크종류(중)','공기','리스크횟수','리스크발생확률\\n(%)','확률분포','P-value','param1','param2','평균\\n(지연일수)','분산\\n(지연일수)','표준편차\\n(지연일수)','최댓값\\n(지연일수)','최솟값\\n(지연일수)']]\n",
    "df.to_csv(\"dataset_v5/음성충주 1,3,4,5 공구_포장공_리스크 확률분포_20230607.csv\", encoding='utf-8-sig')"
   ]
  },
  {
   "cell_type": "code",
   "execution_count": null,
   "metadata": {},
   "outputs": [],
   "source": []
  }
 ],
 "metadata": {
  "interpreter": {
   "hash": "31f2aee4e71d21fbe5cf8b01ff0e069b9275f58929596ceb00d14d90e3e16cd6"
  },
  "kernelspec": {
   "display_name": "Python 3.6.9 64-bit",
   "language": "python",
   "name": "python3"
  },
  "language_info": {
   "codemirror_mode": {
    "name": "ipython",
    "version": 3
   },
   "file_extension": ".py",
   "mimetype": "text/x-python",
   "name": "python",
   "nbconvert_exporter": "python",
   "pygments_lexer": "ipython3",
   "version": "3.6.9"
  },
  "orig_nbformat": 4
 },
 "nbformat": 4,
 "nbformat_minor": 2
}
